{
 "cells": [
  {
   "cell_type": "code",
   "execution_count": 1,
   "id": "adb7d457-cd7e-4d75-a976-e48a8aa4915f",
   "metadata": {},
   "outputs": [],
   "source": [
    "s = \"Sachin\""
   ]
  },
  {
   "cell_type": "code",
   "execution_count": 2,
   "id": "e7c800c5-4e27-4381-946d-d558b59f08c4",
   "metadata": {},
   "outputs": [
    {
     "data": {
      "text/plain": [
       "str"
      ]
     },
     "execution_count": 2,
     "metadata": {},
     "output_type": "execute_result"
    }
   ],
   "source": [
    "type(s)"
   ]
  },
  {
   "cell_type": "code",
   "execution_count": 3,
   "id": "98e664dc-a4e3-4065-8b8d-7487cd625738",
   "metadata": {},
   "outputs": [],
   "source": [
    "l =[ 1,2,3,4,5,\"Sachin\"]"
   ]
  },
  {
   "cell_type": "code",
   "execution_count": 4,
   "id": "14022696-b4c5-48fc-b0b3-c42448b5bcca",
   "metadata": {},
   "outputs": [
    {
     "data": {
      "text/plain": [
       "list"
      ]
     },
     "execution_count": 4,
     "metadata": {},
     "output_type": "execute_result"
    }
   ],
   "source": [
    "type(l)"
   ]
  },
  {
   "cell_type": "code",
   "execution_count": 5,
   "id": "da5bea61-9513-474d-af4b-7e732643089a",
   "metadata": {},
   "outputs": [],
   "source": [
    "i = 7.89"
   ]
  },
  {
   "cell_type": "code",
   "execution_count": 6,
   "id": "16f2fd97-b862-4772-b46f-45189756cfd1",
   "metadata": {},
   "outputs": [
    {
     "data": {
      "text/plain": [
       "float"
      ]
     },
     "execution_count": 6,
     "metadata": {},
     "output_type": "execute_result"
    }
   ],
   "source": [
    "type(i)"
   ]
  },
  {
   "cell_type": "code",
   "execution_count": 7,
   "id": "ec47d5d6-dba0-4066-81f8-9b028b2c09be",
   "metadata": {},
   "outputs": [],
   "source": [
    "var1 = ''"
   ]
  },
  {
   "cell_type": "code",
   "execution_count": 8,
   "id": "e83a3d64-44d4-41d6-ba85-199e1089c443",
   "metadata": {},
   "outputs": [
    {
     "data": {
      "text/plain": [
       "str"
      ]
     },
     "execution_count": 8,
     "metadata": {},
     "output_type": "execute_result"
    }
   ],
   "source": [
    "type(var1)"
   ]
  },
  {
   "cell_type": "code",
   "execution_count": 9,
   "id": "2d13a44f-4af4-4ea3-b0fb-c552443d75c5",
   "metadata": {},
   "outputs": [],
   "source": [
    "var2 = '[DS,ML,Python]'"
   ]
  },
  {
   "cell_type": "code",
   "execution_count": 10,
   "id": "5f0d0e08-d1e6-4829-9d0b-c26853e6e670",
   "metadata": {},
   "outputs": [
    {
     "data": {
      "text/plain": [
       "str"
      ]
     },
     "execution_count": 10,
     "metadata": {},
     "output_type": "execute_result"
    }
   ],
   "source": [
    "type(var2)"
   ]
  },
  {
   "cell_type": "code",
   "execution_count": 11,
   "id": "18f9c803-18b8-4107-b4ad-93c94283d03a",
   "metadata": {},
   "outputs": [],
   "source": [
    "var3 = ['DS','ML','Python']"
   ]
  },
  {
   "cell_type": "code",
   "execution_count": 12,
   "id": "e6f25d57-7a44-45e3-b9ff-d611d2d602e7",
   "metadata": {},
   "outputs": [
    {
     "data": {
      "text/plain": [
       "list"
      ]
     },
     "execution_count": 12,
     "metadata": {},
     "output_type": "execute_result"
    }
   ],
   "source": [
    "type(var3)"
   ]
  },
  {
   "cell_type": "code",
   "execution_count": 13,
   "id": "ba25b6bb-68f3-48e4-b42e-49cf4e3fa101",
   "metadata": {},
   "outputs": [],
   "source": [
    "var4 = 1 "
   ]
  },
  {
   "cell_type": "code",
   "execution_count": 14,
   "id": "184a0e60-ca7b-4f34-80c4-ea794499377b",
   "metadata": {},
   "outputs": [
    {
     "data": {
      "text/plain": [
       "int"
      ]
     },
     "execution_count": 14,
     "metadata": {},
     "output_type": "execute_result"
    }
   ],
   "source": [
    "type(var4)"
   ]
  },
  {
   "cell_type": "code",
   "execution_count": 15,
   "id": "c5a69b9a-6b99-47de-87d2-16b85429aeb5",
   "metadata": {},
   "outputs": [
    {
     "data": {
      "text/plain": [
       "3.0"
      ]
     },
     "execution_count": 15,
     "metadata": {},
     "output_type": "execute_result"
    }
   ],
   "source": [
    "6/2"
   ]
  },
  {
   "cell_type": "code",
   "execution_count": 16,
   "id": "dbb0da4d-e29b-4ca5-930a-0a6f9d0725d0",
   "metadata": {},
   "outputs": [
    {
     "data": {
      "text/plain": [
       "1"
      ]
     },
     "execution_count": 16,
     "metadata": {},
     "output_type": "execute_result"
    }
   ],
   "source": [
    "5%2"
   ]
  },
  {
   "cell_type": "code",
   "execution_count": 19,
   "id": "dfa44049-6512-4e82-a8ca-844165c12cd8",
   "metadata": {},
   "outputs": [
    {
     "data": {
      "text/plain": [
       "3"
      ]
     },
     "execution_count": 19,
     "metadata": {},
     "output_type": "execute_result"
    }
   ],
   "source": [
    "6//2"
   ]
  },
  {
   "cell_type": "code",
   "execution_count": 20,
   "id": "7d093b5a-84bd-4cf6-bc20-1c5474eb0fa1",
   "metadata": {},
   "outputs": [
    {
     "data": {
      "text/plain": [
       "8"
      ]
     },
     "execution_count": 20,
     "metadata": {},
     "output_type": "execute_result"
    }
   ],
   "source": [
    "2**3"
   ]
  },
  {
   "cell_type": "code",
   "execution_count": 21,
   "id": "c6088d3d-161a-48ef-846f-84c89f5191af",
   "metadata": {},
   "outputs": [],
   "source": [
    "l = [2,3,4,5,\"Sachin\",(4+7j),True,3456,\"Sangeeta\",7]"
   ]
  },
  {
   "cell_type": "code",
   "execution_count": 25,
   "id": "9cbfbaf6-7e74-4197-9b10-99eb3dbc4605",
   "metadata": {},
   "outputs": [
    {
     "name": "stdout",
     "output_type": "stream",
     "text": [
      "<class 'int'>\n",
      "2\n",
      "<class 'int'>\n",
      "3\n",
      "<class 'int'>\n",
      "4\n",
      "<class 'int'>\n",
      "5\n",
      "<class 'str'>\n",
      "Sachin\n",
      "<class 'complex'>\n",
      "(4+7j)\n",
      "<class 'bool'>\n",
      "True\n",
      "<class 'int'>\n",
      "3456\n",
      "<class 'str'>\n",
      "Sangeeta\n",
      "<class 'int'>\n",
      "7\n"
     ]
    }
   ],
   "source": [
    "for i in l:\n",
    "    print(type(i))\n",
    "    print(i)\n",
    "    \n"
   ]
  },
  {
   "cell_type": "code",
   "execution_count": 1,
   "id": "6733c2f5-64e2-4720-a7e8-9c757848ce1b",
   "metadata": {},
   "outputs": [],
   "source": [
    "m = [3,6,7,8,9,12,24,18,30,60,20,42,79,72,11,13,15,21,27,33,37,40,41,99,66]"
   ]
  },
  {
   "cell_type": "code",
   "execution_count": 8,
   "id": "432299c3-b308-4bfe-997f-76eb025e3289",
   "metadata": {},
   "outputs": [
    {
     "data": {
      "text/plain": [
       "list"
      ]
     },
     "execution_count": 8,
     "metadata": {},
     "output_type": "execute_result"
    }
   ],
   "source": [
    "type(m)"
   ]
  },
  {
   "cell_type": "code",
   "execution_count": 12,
   "id": "5296a758-0cc3-4596-88e4-a98f5a78a937",
   "metadata": {},
   "outputs": [],
   "source": [
    "m[3] = \"sachin\"\n",
    "  \n",
    "    "
   ]
  },
  {
   "cell_type": "code",
   "execution_count": 13,
   "id": "cf5e7c83-3cba-47a7-90b2-b5bc77452c4f",
   "metadata": {},
   "outputs": [
    {
     "data": {
      "text/plain": [
       "[3,\n",
       " 6,\n",
       " 7,\n",
       " 'sachin',\n",
       " 9,\n",
       " 12,\n",
       " 24,\n",
       " 18,\n",
       " 30,\n",
       " 60,\n",
       " 20,\n",
       " 42,\n",
       " 79,\n",
       " 72,\n",
       " 11,\n",
       " 13,\n",
       " 15,\n",
       " 21,\n",
       " 27,\n",
       " 33,\n",
       " 37,\n",
       " 40,\n",
       " 41,\n",
       " 99,\n",
       " 66]"
      ]
     },
     "execution_count": 13,
     "metadata": {},
     "output_type": "execute_result"
    }
   ],
   "source": [
    "m"
   ]
  },
  {
   "cell_type": "code",
   "execution_count": 14,
   "id": "c49ef027-cab1-4f90-a114-5cde56681fc5",
   "metadata": {},
   "outputs": [],
   "source": [
    "r = \"Ram\""
   ]
  },
  {
   "cell_type": "code",
   "execution_count": 15,
   "id": "6ba97900-4536-43f6-9252-1b47b82e5885",
   "metadata": {},
   "outputs": [
    {
     "ename": "NameError",
     "evalue": "name 'p' is not defined",
     "output_type": "error",
     "traceback": [
      "\u001b[0;31m---------------------------------------------------------------------------\u001b[0m",
      "\u001b[0;31mNameError\u001b[0m                                 Traceback (most recent call last)",
      "Cell \u001b[0;32mIn[15], line 1\u001b[0m\n\u001b[0;32m----> 1\u001b[0m r[\u001b[38;5;241m1\u001b[39m]\u001b[38;5;241m=\u001b[39m\u001b[43mp\u001b[49m\n",
      "\u001b[0;31mNameError\u001b[0m: name 'p' is not defined"
     ]
    }
   ],
   "source": [
    "r[1]=p"
   ]
  },
  {
   "cell_type": "code",
   "execution_count": 19,
   "id": "68255cbd-a35b-4da2-9470-d00a3090913a",
   "metadata": {},
   "outputs": [
    {
     "name": "stdout",
     "output_type": "stream",
     "text": [
      "in mutable data type we change or replace the word with another word or term whereas in inmutable we cannot occur this procee above is the given example in it\n"
     ]
    }
   ],
   "source": [
    "print(\"in mutable data type we change or replace the word with another word or term whereas in inmutable we cannot occur this procee above is the given example in it\")"
   ]
  },
  {
   "cell_type": "code",
   "execution_count": 20,
   "id": "a3f1dd6c-6529-4fff-a342-25b4cef4d96d",
   "metadata": {},
   "outputs": [
    {
     "data": {
      "text/plain": [
       "[3,\n",
       " 6,\n",
       " 7,\n",
       " 'sachin',\n",
       " 9,\n",
       " 12,\n",
       " 24,\n",
       " 18,\n",
       " 30,\n",
       " 60,\n",
       " 20,\n",
       " 42,\n",
       " 79,\n",
       " 72,\n",
       " 11,\n",
       " 13,\n",
       " 15,\n",
       " 21,\n",
       " 27,\n",
       " 33,\n",
       " 37,\n",
       " 40,\n",
       " 41,\n",
       " 99,\n",
       " 66]"
      ]
     },
     "execution_count": 20,
     "metadata": {},
     "output_type": "execute_result"
    }
   ],
   "source": [
    "\n",
    "m"
   ]
  },
  {
   "cell_type": "code",
   "execution_count": 31,
   "id": "c54fe2e1-351c-4750-a197-221d193fba84",
   "metadata": {},
   "outputs": [],
   "source": [
    "z = [1,2,3,12,15,6,9,18,21,24,27,30,33,36,39,42,45,48,51,54,5,25,50,75,80]"
   ]
  },
  {
   "cell_type": "code",
   "execution_count": 39,
   "id": "285317cf-d4c5-479e-97e7-45396a39bf4b",
   "metadata": {},
   "outputs": [
    {
     "name": "stdout",
     "output_type": "stream",
     "text": [
      "Number is not divisible by 3\n",
      "Number is not divisible by 3\n",
      "Number is divisible by 3\n",
      "Number is divisible by 3\n",
      "Number is divisible by 3\n",
      "Number is divisible by 3\n",
      "Number is divisible by 3\n",
      "Number is divisible by 3\n",
      "Number is divisible by 3\n",
      "Number is divisible by 3\n",
      "Number is divisible by 3\n",
      "Number is divisible by 3\n",
      "Number is divisible by 3\n",
      "Number is divisible by 3\n",
      "Number is divisible by 3\n",
      "Number is divisible by 3\n",
      "Number is divisible by 3\n",
      "Number is divisible by 3\n",
      "Number is divisible by 3\n",
      "Number is divisible by 3\n",
      "Number is not divisible by 3\n",
      "Number is not divisible by 3\n",
      "Number is not divisible by 3\n",
      "Number is divisible by 3\n",
      "Number is not divisible by 3\n"
     ]
    }
   ],
   "source": [
    "for i in z:\n",
    "    \n",
    "    if i%3==0:\n",
    "        print(\"Number is divisible by 3\")\n",
    "    else:\n",
    "        print(\"Number is not divisible by 3\")\n",
    "\n",
    "        "
   ]
  },
  {
   "cell_type": "code",
   "execution_count": null,
   "id": "3034a3a9-7438-42a0-a2be-b1a4bca52233",
   "metadata": {},
   "outputs": [],
   "source": []
  }
 ],
 "metadata": {
  "kernelspec": {
   "display_name": "Python 3 (ipykernel)",
   "language": "python",
   "name": "python3"
  },
  "language_info": {
   "codemirror_mode": {
    "name": "ipython",
    "version": 3
   },
   "file_extension": ".py",
   "mimetype": "text/x-python",
   "name": "python",
   "nbconvert_exporter": "python",
   "pygments_lexer": "ipython3",
   "version": "3.10.8"
  }
 },
 "nbformat": 4,
 "nbformat_minor": 5
}
